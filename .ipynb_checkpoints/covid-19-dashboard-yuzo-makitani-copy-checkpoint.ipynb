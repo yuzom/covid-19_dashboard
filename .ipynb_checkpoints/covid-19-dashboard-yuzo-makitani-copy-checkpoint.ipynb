{
 "cells": [
  {
   "cell_type": "markdown",
   "id": "cad237e2-6df2-4a67-aaa4-a88b7caad569",
   "metadata": {},
   "source": [
    "# DIY COVID-19 Dashboard - Yuzo Makitani"
   ]
  },
  {
   "cell_type": "markdown",
   "id": "e6080a27-8031-4783-bdb4-198061f45709",
   "metadata": {},
   "source": [
    "This is a COVID-19 dashboard based on data published by [Public Health England](https://www.gov.uk/government/organisations/public-health-england)"
   ]
  },
  {
   "cell_type": "code",
   "execution_count": 1,
   "id": "8d776051-15e0-418d-9b8b-b3fc56d99571",
   "metadata": {
    "tags": []
   },
   "outputs": [],
   "source": [
    "# ideas for data visualization\n",
    "# 1. cumulative timeseries plot with vaccination included\n",
    "# 2. student t-test on death rate by gender\n",
    "# 3. student t-test on death rate by age\n",
    "# 4. tukey kramer test on death rate by gender and age\n",
    "# 5. timeseries plot by UK region (re-use existing code with multiple filters) - need regional population estimates"
   ]
  },
  {
   "cell_type": "code",
   "execution_count": 2,
   "id": "f5f00b83-f144-4227-bf90-817011bf310b",
   "metadata": {
    "tags": []
   },
   "outputs": [],
   "source": [
    "# import all libraries\n",
    "import json\n",
    "import time\n",
    "import numpy as np\n",
    "import pandas as pd\n",
    "import ipywidgets as wdg\n",
    "import matplotlib.pyplot as plt\n",
    "import matplotlib.ticker as ticker\n",
    "from uk_covid19 import Cov19API\n",
    "from IPython.display import clear_output\n",
    "\n",
    "# delete this code for binders\n",
    "import os\n",
    "os.chdir('/Users/yuzomakitani/Desktop/Programming ECS780P/diy-covid19dash-main/submission')\n",
    "\n",
    "# enable plotting and make figures larger\n",
    "%matplotlib inline\n",
    "plt.rcParams['figure.dpi'] = 100"
   ]
  },
  {
   "cell_type": "code",
   "execution_count": 3,
   "id": "70d35345-6a7f-4560-af30-5570cc6020a1",
   "metadata": {
    "tags": []
   },
   "outputs": [],
   "source": [
    "# helper functions\n",
    "\n",
    "# function to convert date strings into pandas datetime objects\n",
    "def parse_date(datestring):\n",
    "    \"\"\" Convert a date string into a pandas datetime object \"\"\"\n",
    "    return pd.to_datetime(datestring, format=\"%Y-%m-%d\")\n",
    "\n",
    "# magnitude formatter\n",
    "def format_magnitude(x, pos):\n",
    "    if x >= 1_000_000:\n",
    "        return f'{x / 1_000_000:.0f}M'\n",
    "    elif x >= 1_000:\n",
    "        return f'{x / 1_000:.1f}K'\n",
    "    else:\n",
    "        return f'{x:.0f}'"
   ]
  },
  {
   "cell_type": "code",
   "execution_count": 4,
   "id": "2bbc1fbd-5f37-47b1-92c3-9d71b5887b6b",
   "metadata": {
    "tags": []
   },
   "outputs": [],
   "source": [
    "# --- a1. import data: cases, deaths, cum vaccinations, cum boosters by date ---\n",
    "\n",
    "def import_timeseries():\n",
    "\n",
    "    # select which area data to retrieve\n",
    "    # viable filters: areaType (mandatory), areaName, areaCode, date\n",
    "    filters = [\n",
    "        'areaType=nation',\n",
    "        'areaName=England'\n",
    "    ]\n",
    "\n",
    "    # select the field display name followed by field name\n",
    "    # \"metric display name\" : \"metric name (see website)\"\n",
    "    structure = {\n",
    "        \"date\": \"date\",\n",
    "        \"cases\": \"newCasesBySpecimenDateRollingRate\",\n",
    "        \"deaths\": \"newDailyNsoDeathsByDeathDate\",\n",
    "        \"death rate\": \"newDeaths60DaysByDeathDateRollingRate\", # new deaths within 60 days of a positive test rolling rate by death date\n",
    "        \"cum vaccinations\": \"cumPeopleVaccinatedCompleteByVaccinationDate\", # cumulative people fully vaccinated by vaccination date\n",
    "        \"cum boosters\": \"cumPeopleVaccinatedThirdInjectionByVaccinationDate\", # cumulative people vaccinated booster or third dose by vaccination date\n",
    "        \"vaccinations\": \"newPeopleVaccinatedCompleteByPublishDate\", # new people vaccinated complete by publish date\n",
    "        \"boosters\": \"newPeopleVaccinatedThirdInjectionByVaccinationDate\" # new people vaccinated with a booster or third dose by vaccination date\n",
    "    }\n",
    "\n",
    "    # create a cov19api object\n",
    "    api = Cov19API(filters=filters, structure=structure)\n",
    "\n",
    "    # call the government server for the data and put it in json format\n",
    "    timeseries=api.get_json()     # consider replacing with timeseries=api.get_dataframe() to get pandas table\n",
    "\n",
    "    # check the call was successful\n",
    "    # print(\"keys =\", list(timeseries.keys()))\n",
    "\n",
    "    # save as json file to local machine\n",
    "    with open(\"timeseries.json\", \"wt\") as OUTF:\n",
    "        json.dump(timeseries, OUTF)"
   ]
  },
  {
   "cell_type": "code",
   "execution_count": 5,
   "id": "7dd71d2c-e515-4052-a884-2fdedad84c7e",
   "metadata": {
    "tags": []
   },
   "outputs": [],
   "source": [
    "# --- a2. wrangle timeseries data ---\n",
    "\n",
    "def wrangle_timeseries():\n",
    "\n",
    "    with open(\"timeseries.json\", \"rt\") as INFILE:\n",
    "        data=json.load(INFILE)\n",
    "\n",
    "    # save json as datalist (type list) filled with a dictionary for each row\n",
    "    datalist=data['data']\n",
    "\n",
    "    # extra dates into dates list and sort them (type list)\n",
    "    dates=[dictionary['date'] for dictionary in datalist]\n",
    "    dates.sort()\n",
    "\n",
    "    # get the start and end date and convert them into pandas datetime objects\n",
    "    startdate=parse_date(dates[0])\n",
    "    enddate=parse_date(dates[-1])\n",
    "\n",
    "    # fill missing dates and name the columns using the start and end dates\n",
    "    index=pd.date_range(startdate, enddate, freq='D')\n",
    "    timeseriesdf=pd.DataFrame(index=index, columns=['cases', 'deaths', 'death rate', 'fatality rate',\n",
    "                                                    'cum vaccinations', 'cum boosters', 'vaccinations', 'boosters'])\n",
    "\n",
    "    # put the data from datalist into timeseriesdf (type pandas dataframe)\n",
    "    for entry in datalist:\n",
    "        date=parse_date(entry['date'])\n",
    "        for column in ['cases', 'deaths', 'death rate', 'cum vaccinations', 'cum boosters', 'vaccinations', 'boosters']:\n",
    "            if pd.isna(timeseriesdf.loc[date, column]): \n",
    "                value= float(entry[column]) if entry[column]!=None else 0.0\n",
    "                timeseriesdf.loc[date, column]=value\n",
    "\n",
    "    # fill missing values due to missing dates with 0\n",
    "    timeseriesdf.fillna(0.0, inplace=True)\n",
    "\n",
    "    # fill calcaulated column fatality rate\n",
    "    timeseriesdf['fatality rate'] = timeseriesdf['deaths'] / timeseriesdf['cases']\n",
    "    \n",
    "    # save pickle\n",
    "    timeseriesdf.to_pickle(\"timeseriesdf.pkl\")\n",
    "    \n",
    "    return timeseriesdf"
   ]
  },
  {
   "cell_type": "code",
   "execution_count": 6,
   "id": "f1025e69-97c6-47e4-8d74-6a0c4324550c",
   "metadata": {
    "tags": []
   },
   "outputs": [],
   "source": [
    "# --- a3. display timeseries data ---\n",
    "\n",
    "def display_timeseries(timeseriesdf):\n",
    "    \n",
    "    series1=wdg.Select(\n",
    "        options=['cases', 'deaths', 'cum vaccinations', 'cum boosters', 'death rate'],\n",
    "        value='death rate',\n",
    "        rows=5,\n",
    "        description='Axis 1:',\n",
    "        disabled=False\n",
    "    )\n",
    "    \n",
    "    series2=wdg.Select(\n",
    "        options=['cases', 'deaths', 'cum vaccinations', 'cum boosters', 'death rate'],\n",
    "        value='cum boosters',\n",
    "        rows=5,\n",
    "        description='Axis 2:',\n",
    "        disabled=False\n",
    "    )\n",
    "\n",
    "    scale=wdg.RadioButtons(\n",
    "        options=['linear', 'log'],\n",
    "        description='Scale:',\n",
    "        disabled=False\n",
    "    )\n",
    "\n",
    "    # try replacing HBox with a VBox\n",
    "    controls=wdg.HBox([series1, series2, scale])\n",
    "    scale.layout.margin = '0 0 0 50px'\n",
    "\n",
    "    def timeseries_graph(gcol1, gcol2, gscale):\n",
    "        if gscale == 'linear':\n",
    "            logscale = False\n",
    "        else:\n",
    "            logscale = True\n",
    "\n",
    "\n",
    "        fig, ax = plt.subplots(figsize=(8, 6))\n",
    "        timeseriesdf[gcol1].plot(ax=ax, logy=logscale, label=gcol1)\n",
    "        ax.set_ylabel(gcol1)\n",
    "\n",
    "        ax_twin = ax.twinx()\n",
    "        timeseriesdf[gcol2].plot(ax=ax_twin, logy=logscale, label=gcol2, color='orange')\n",
    "        ax_twin.set_ylabel(gcol2)\n",
    "\n",
    "        ax.yaxis.set_major_formatter(ticker.FuncFormatter(format_magnitude))\n",
    "        ax_twin.yaxis.set_major_formatter(ticker.FuncFormatter(format_magnitude))\n",
    "\n",
    "        ax.legend(loc='upper left')\n",
    "        ax_twin.legend(loc='upper right')\n",
    "        plt.tight_layout()\n",
    "        plt.show()\n",
    "        \n",
    "\n",
    "    # input function handle and arguments as a dict\n",
    "    graph = wdg.interactive_output(timeseries_graph, {'gcol1': series1, 'gcol2': series2, 'gscale': scale})\n",
    "\n",
    "    display(controls, graph)"
   ]
  },
  {
   "cell_type": "code",
   "execution_count": 7,
   "id": "33fab985-2d6b-458f-b425-0c4e23e1bf54",
   "metadata": {
    "tags": []
   },
   "outputs": [],
   "source": [
    "# b2. --- wrangle age data ---\n",
    "\n",
    "def wrangle_agedist(regions):\n",
    "\n",
    "    # function to return the minimum age in an age range\n",
    "    def min_age(agerange):\n",
    "        agerange=agerange.replace('+','') # remove the + from 90+\n",
    "        start=agerange.split('_')[0]\n",
    "        return int(start)\n",
    "\n",
    "    # open age distribution\n",
    "    with open(\"agedistribution.json\", \"rt\") as INFILE:\n",
    "        data=json.load(INFILE)\n",
    "        \n",
    "    col = ['region', 'male cases', 'female cases', 'total cases']\n",
    "    ageranges = []\n",
    "    dfs, datadic, male_cases, female_cases = {}, {}, {}, {}\n",
    "\n",
    "    for region in regions:\n",
    "\n",
    "        # each entry is a dict, with age band, rate, and value\n",
    "        datadic[region] = data[region]['data'][0]\n",
    "\n",
    "        # put male data into males and female data into females\n",
    "        male_cases[region] = datadic[region]['male cases']\n",
    "        female_cases[region] = datadic[region]['female cases']\n",
    "\n",
    "        if region == 'London':\n",
    "            # fill age ranges list with male ages\n",
    "            ageranges=[x['age'] for x in male_cases['London']] # each entry of males is a dictionary\n",
    "            # sort age ranges by minimum age\n",
    "            ageranges.sort(key=min_age)\n",
    "\n",
    "            dfs[all_regions] = age_df=pd.DataFrame(0, index=ageranges, columns=col)\n",
    "            dfs[all_regions]['region'] = all_regions\n",
    "\n",
    "        # create age_df (pandas dataframe) with columns males, females, and total\n",
    "        age_df=pd.DataFrame(index=ageranges, columns=col)\n",
    "\n",
    "        for entry in male_cases[region]:\n",
    "            ageband = entry['age']\n",
    "            age_df.loc[ageband, 'male cases'] = entry['value']\n",
    "            dfs[all_regions].loc[ageband, 'male cases'] += entry['value']\n",
    "\n",
    "        for entry in female_cases[region]:\n",
    "            ageband = entry['age']\n",
    "            age_df.loc[ageband, 'female cases'] = entry['value']\n",
    "            dfs[all_regions].loc[ageband, 'female cases'] += entry['value']\n",
    "\n",
    "        # define total column as males + females\n",
    "        age_df['total cases'] = age_df['male cases'] + age_df['female cases']\n",
    "\n",
    "        # insert region\n",
    "        age_df['region'] = region\n",
    "\n",
    "        # add to dfs dict\n",
    "        dfs[region] = age_df\n",
    "\n",
    "    dfs[all_regions]['total cases'] = dfs[all_regions]['male cases'] + dfs[all_regions]['female cases']\n",
    "\n",
    "    age_dfs = pd.concat(dfs.values(), axis=0)\n",
    "\n",
    "    # save pickle\n",
    "    age_dfs.to_pickle(\"agedfs.pkl\")\n",
    "    \n",
    "    return age_dfs"
   ]
  },
  {
   "cell_type": "code",
   "execution_count": 8,
   "id": "f454a42a-e37a-4713-bf24-c08ce3bc95f0",
   "metadata": {
    "tags": []
   },
   "outputs": [],
   "source": [
    "# b3. --- display age data ---\n",
    "\n",
    "def display_agedist(regions, age_dfs):\n",
    "\n",
    "    all_regions = 'All Regions'\n",
    "    region_options = regions[:]\n",
    "    region_options.append(all_regions)\n",
    "\n",
    "    agecols = wdg.SelectMultiple(\n",
    "        options = ['male cases', 'female cases', 'total cases'], # options available\n",
    "        value = ['male cases', 'female cases'], # initial value\n",
    "        rows = 3, # rows of the selection box\n",
    "        description = 'Sex',\n",
    "        disabled = False\n",
    "    )\n",
    "\n",
    "    regionfilter = wdg.RadioButtons(\n",
    "        options = region_options, # options available\n",
    "        value = 'London', # initial value\n",
    "        description = 'Region',\n",
    "        disabled = False\n",
    "    )\n",
    "    \n",
    "\n",
    "    def age_graph(graphcolumns, regfilt):\n",
    "\n",
    "        filtered_df = age_dfs[age_dfs['region'] == regfilt]\n",
    "\n",
    "        # our callback function\n",
    "        ncols=len(graphcolumns)\n",
    "        if ncols>0:\n",
    "            ax3 = filtered_df.plot(kind='bar', y=list(graphcolumns)) # graphcolumns is a tuple - we need a list\n",
    "            plt.show() # important - graphs won't update properly if this is missing\n",
    "        else:\n",
    "            # if the user has not selected any column, print a message instead\n",
    "            print(\"Click to select data for graph\")\n",
    "            print(\"(CTRL-Click to select more than one category)\")\n",
    "\n",
    "    # keep calling age_graph(graphcolumns=value_of_agecols); capture output in widget output    \n",
    "    output=wdg.interactive_output(age_graph, {'graphcolumns': agecols, 'regfilt': regionfilter})\n",
    "\n",
    "    controls = wdg.HBox([agecols, regionfilter])\n",
    "    regionfilter.layout.margin = '0 0 0 50px'\n",
    "    display(controls, output)"
   ]
  },
  {
   "cell_type": "code",
   "execution_count": 9,
   "id": "8376fa9d-8fd4-44af-ad47-23c498277167",
   "metadata": {
    "tags": []
   },
   "outputs": [],
   "source": [
    "# --- API access function ---\n",
    "def access_api(button, plots, regions):\n",
    "    \n",
    "    if 'timeseries' in plots:\n",
    "    \n",
    "        # import, wrangle, and display new timeseries data\n",
    "        import_timeseries()\n",
    "        timeseries_df = wrangle_timeseries()\n",
    "        display_timeseries(timeseries_df)\n",
    "        \n",
    "        # change icon to check and disable the button\n",
    "        apibutton1.icon=\"check\"\n",
    "        apibutton1.disabled=True\n",
    "    \n",
    "    if 'agedist' in plots:\n",
    "        \n",
    "        # import, wrangle, and display new age distribution data\n",
    "        import_agedist(regions)\n",
    "        age_dfs = wrangle_agedist(regions)\n",
    "        display_agedist(regions, age_dfs)\n",
    "    \n",
    "        # change icon to check and disable the button\n",
    "        apibutton2.icon=\"check\"\n",
    "        apibutton2.disabled=True"
   ]
  },
  {
   "cell_type": "markdown",
   "id": "09a0ac01-d708-4caf-bab5-6fc7890af526",
   "metadata": {},
   "source": [
    "## Two Variables on Timeseries\n",
    "* Choose one variable on each axes to explore their relationship\n",
    "* For example, take a look at the death rate after vaccination are administered\n",
    "* Warning: Refresh data may take a while because this dashboard queries the PHE database for each region"
   ]
  },
  {
   "cell_type": "code",
   "execution_count": 11,
   "id": "e5c920e4-0bc1-4e7d-af0c-c0c09c426a7a",
   "metadata": {
    "tags": []
   },
   "outputs": [
    {
     "data": {
      "application/vnd.jupyter.widget-view+json": {
       "model_id": "7241bd1626824d7aaaee878015a98735",
       "version_major": 2,
       "version_minor": 0
      },
      "text/plain": [
       "Button(description='Refresh data', icon='download', style=ButtonStyle(), tooltip='Click to download current Pu…"
      ]
     },
     "metadata": {},
     "output_type": "display_data"
    }
   ],
   "source": [
    "# --- main ---\n",
    "\n",
    "regions = ['London', 'East Midlands', 'East of England', 'North East',\n",
    "           'North West', 'South East', 'South West', 'West Midlands', 'Yorkshire and The Humber']\n",
    "all_regions = 'All Regions'\n",
    "\n",
    "# --- executed only when button is clicked ---\n",
    "\n",
    "# create API button object \n",
    "apibutton1=wdg.Button(\n",
    "    description='Refresh data',\n",
    "    disabled=False,\n",
    "    button_style='', # 'success', 'info', 'warning', 'danger' or ''\n",
    "    tooltip='Click to download current Public Health England data',\n",
    "    icon='download' # (FontAwesome names without the `fa-` prefix)\n",
    ")\n",
    "\n",
    "# register the callback function with the button\n",
    "apibutton1.on_click(lambda button: access_api(button, ['timeseries'], regions))\n",
    "display(apibutton1)"
   ]
  },
  {
   "cell_type": "code",
   "execution_count": null,
   "id": "ef34d895-6fd5-469b-8359-6fb5f15c9c35",
   "metadata": {
    "tags": []
   },
   "outputs": [],
   "source": [
    "# --- main ---\n",
    "\n",
    "# --- first time pass (skip import functions) - executed when page loads for the first time ---\n",
    "\n",
    "timeseries_df = wrangle_timeseries()\n",
    "display_timeseries(timeseries_df)"
   ]
  },
  {
   "cell_type": "markdown",
   "id": "076acb1d-731b-4f26-b5da-77b75d39210a",
   "metadata": {},
   "source": [
    "## Cases by Region\n",
    "* See the age distributions for cases broken down by sex and region\n",
    "* Select \"All Regions\" to see the sum total for all cases"
   ]
  },
  {
   "cell_type": "code",
   "execution_count": 12,
   "id": "aa1ab159-4d14-41c4-a320-ecb58b625d66",
   "metadata": {
    "tags": []
   },
   "outputs": [
    {
     "data": {
      "application/vnd.jupyter.widget-view+json": {
       "model_id": "15636f61568441e3a5d2ea3402d8e10a",
       "version_major": 2,
       "version_minor": 0
      },
      "text/plain": [
       "Button(description='Refresh data', icon='download', style=ButtonStyle(), tooltip='Click to download current Pu…"
      ]
     },
     "metadata": {},
     "output_type": "display_data"
    },
    {
     "data": {
      "application/vnd.jupyter.widget-view+json": {
       "model_id": "64f5649edd454191bd4ddd16fe816bbe",
       "version_major": 2,
       "version_minor": 0
      },
      "text/plain": [
       "HBox(children=(SelectMultiple(description='Sex', index=(0, 1), options=('male cases', 'female cases', 'total c…"
      ]
     },
     "metadata": {},
     "output_type": "display_data"
    },
    {
     "data": {
      "application/vnd.jupyter.widget-view+json": {
       "model_id": "9f36aa416d3e44d19d6df1d27bdaccc4",
       "version_major": 2,
       "version_minor": 0
      },
      "text/plain": [
       "Output()"
      ]
     },
     "metadata": {},
     "output_type": "display_data"
    }
   ],
   "source": [
    "# --- main ---\n",
    "\n",
    "# --- executed only when button is clicked ---\n",
    "\n",
    "# create API button object \n",
    "apibutton2=wdg.Button(\n",
    "    description='Refresh data',\n",
    "    disabled=False,\n",
    "    button_style='', # 'success', 'info', 'warning', 'danger' or ''\n",
    "    tooltip='Click to download current Public Health England data',\n",
    "    icon='download' # (FontAwesome names without the `fa-` prefix)\n",
    ")\n",
    "\n",
    "# register the callback function with the button\n",
    "apibutton2.on_click(lambda button: access_api(button, ['agedist'], regions))\n",
    "display(apibutton2)\n",
    "\n",
    "age_dfs = wrangle_agedist(regions)\n",
    "display_agedist(regions, age_dfs)"
   ]
  }
 ],
 "metadata": {
  "kernelspec": {
   "display_name": "Python 3 (ipykernel)",
   "language": "python",
   "name": "python3"
  },
  "language_info": {
   "codemirror_mode": {
    "name": "ipython",
    "version": 3
   },
   "file_extension": ".py",
   "mimetype": "text/x-python",
   "name": "python",
   "nbconvert_exporter": "python",
   "pygments_lexer": "ipython3",
   "version": "3.11.5"
  }
 },
 "nbformat": 4,
 "nbformat_minor": 5
}
